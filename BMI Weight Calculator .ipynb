{
 "cells": [
  {
   "cell_type": "markdown",
   "id": "b0d5d387",
   "metadata": {},
   "source": [
    "# BMI CALCULATOR"
   ]
  },
  {
   "cell_type": "markdown",
   "id": "86a2c2c4",
   "metadata": {},
   "source": [
    "#This script showcases how to calculate your BMI using your weight \n"
   ]
  },
  {
   "cell_type": "code",
   "execution_count": 1,
   "id": "5630f989",
   "metadata": {},
   "outputs": [
    {
     "name": "stdout",
     "output_type": "stream",
     "text": [
      "Enter your name: Mr Rat\n",
      "Enter your weight in kg: 85\n",
      "Enter your height in Cm: 185\n"
     ]
    }
   ],
   "source": [
    "\"\"\"\n",
    "Parameters\n",
    "weight_kg (float): Weight in kilograms\n",
    "height_m (float): Height in meters\n",
    "\n",
    "\"\"\"\n",
    "name = input(\"Enter your name: \")\n",
    "weight = int(input(\"Enter your weight in kg: \"))\n",
    "height = int(input(\"Enter your height in Cm: \"))"
   ]
  },
  {
   "cell_type": "code",
   "execution_count": 2,
   "id": "323c0158",
   "metadata": {},
   "outputs": [],
   "source": [
    "\n",
    "def calculate_bmi(weight_kg, height_m):\n",
    "    \"\"\"\n",
    "    Calculate BMI using weight in kilograms and height in meters\n",
    "    Returns:\n",
    "    float: BMI value\n",
    "    \"\"\"\n",
    "    bmi = (weight_kg / (height_m ** 2)*10000)\n",
    "    return bmi"
   ]
  },
  {
   "cell_type": "code",
   "execution_count": 3,
   "id": "68bd6f41",
   "metadata": {},
   "outputs": [
    {
     "name": "stdout",
     "output_type": "stream",
     "text": [
      "Your Body Mass Index is 24.835646457268076\n",
      "Mr Rat, you are normal weight.\n"
     ]
    }
   ],
   "source": [
    "BMI = calculate_bmi(weight, height)\n",
    "print(\"Your Body Mass Index is \" + str(BMI))\n",
    "if BMI>0:\n",
    "    if(BMI<18.5):\n",
    "        print(name +\", you are underwight.\")\n",
    "    elif (BMI<=24.9):\n",
    "        print(name +\", you are normal weight.\")\n",
    "    elif (BMI<29.9):\n",
    "        print(name +\", you are overweight. You need to exercise more and stop sitting and writing so many python tutorials.\")\n",
    "    elif (BMI<34.9):\n",
    "        print(name +\", you are obese.\")\n",
    "    elif (BMI<39.9):\n",
    "        print(name +\", you are severely obese.\")\n",
    "    else:\n",
    "        print(name +\", you are morbidly obese.\")\n",
    "else:\n",
    "    print(\"Enter valid input\")"
   ]
  },
  {
   "cell_type": "code",
   "execution_count": null,
   "id": "79959193",
   "metadata": {},
   "outputs": [],
   "source": []
  },
  {
   "cell_type": "code",
   "execution_count": null,
   "id": "55a0db19",
   "metadata": {},
   "outputs": [],
   "source": []
  }
 ],
 "metadata": {
  "kernelspec": {
   "display_name": "Python 3 (ipykernel)",
   "language": "python",
   "name": "python3"
  },
  "language_info": {
   "codemirror_mode": {
    "name": "ipython",
    "version": 3
   },
   "file_extension": ".py",
   "mimetype": "text/x-python",
   "name": "python",
   "nbconvert_exporter": "python",
   "pygments_lexer": "ipython3",
   "version": "3.9.1"
  }
 },
 "nbformat": 4,
 "nbformat_minor": 5
}
